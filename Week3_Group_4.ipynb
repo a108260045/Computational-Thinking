{
  "nbformat": 4,
  "nbformat_minor": 0,
  "metadata": {
    "colab": {
      "name": "Week3-Group 4.ipynb",
      "provenance": [],
      "collapsed_sections": [],
      "include_colab_link": true
    },
    "kernelspec": {
      "name": "python3",
      "display_name": "Python 3"
    }
  },
  "cells": [
    {
      "cell_type": "markdown",
      "metadata": {
        "id": "view-in-github",
        "colab_type": "text"
      },
      "source": [
        "<a href=\"https://colab.research.google.com/github/jxes993323/Computational-Thinking/blob/master/Week3_Group_4.ipynb\" target=\"_parent\"><img src=\"https://colab.research.google.com/assets/colab-badge.svg\" alt=\"Open In Colab\"/></a>"
      ]
    },
    {
      "cell_type": "code",
      "metadata": {
        "id": "nCwTbfumPz3r",
        "colab_type": "code",
        "outputId": "a0d0f312-5f59-4a51-d816-4443e2ca0f25",
        "colab": {
          "base_uri": "https://localhost:8080/",
          "height": 34
        }
      },
      "source": [
        "print(\"大家好我叫陳建宇，學號是A108260033，目前就讀世新大學經濟一甲。\")"
      ],
      "execution_count": 0,
      "outputs": [
        {
          "output_type": "stream",
          "text": [
            "大家好我叫陳建宇，學號是A108260033，目前就讀世新大學經濟一甲。\n"
          ],
          "name": "stdout"
        }
      ]
    },
    {
      "cell_type": "markdown",
      "metadata": {
        "id": "ipFZKHt9XVhA",
        "colab_type": "text"
      },
      "source": [
        ""
      ]
    },
    {
      "cell_type": "code",
      "metadata": {
        "id": "p3ffA-6zRhOZ",
        "colab_type": "code",
        "outputId": "7b0ad544-f5a2-4243-e05a-2ce0f2648b2f",
        "colab": {
          "base_uri": "https://localhost:8080/",
          "height": 34
        }
      },
      "source": [
        "print(\"大家好我叫吳建賢，學號是A108260075，目前就讀世新大學經濟一甲\")"
      ],
      "execution_count": 0,
      "outputs": [
        {
          "output_type": "stream",
          "text": [
            "大家好我叫吳建賢，學號是A108260075，目前就讀世新大學經濟一甲\n"
          ],
          "name": "stdout"
        }
      ]
    },
    {
      "cell_type": "code",
      "metadata": {
        "id": "-0skHjdwRjgG",
        "colab_type": "code",
        "outputId": "919a1bb7-9040-42c4-a7c2-fe1b99fd4af7",
        "colab": {
          "base_uri": "https://localhost:8080/",
          "height": 34
        }
      },
      "source": [
        "print(\"大家好我叫呂季霖，學號是A108260099，目前就讀世新大學經濟一甲。\")"
      ],
      "execution_count": 0,
      "outputs": [
        {
          "output_type": "stream",
          "text": [
            "大家好我叫呂季霖，學號是A108260099，目前就讀世新大學經濟一甲。\n"
          ],
          "name": "stdout"
        }
      ]
    },
    {
      "cell_type": "code",
      "metadata": {
        "id": "JBzbUPXwRjtt",
        "colab_type": "code",
        "outputId": "941d2c45-ca78-425c-f202-e2cebbf1b424",
        "colab": {
          "base_uri": "https://localhost:8080/",
          "height": 34
        }
      },
      "source": [
        "print(\"張靖玟\")"
      ],
      "execution_count": 0,
      "outputs": [
        {
          "output_type": "stream",
          "text": [
            "張靖玟\n"
          ],
          "name": "stdout"
        }
      ]
    },
    {
      "cell_type": "code",
      "metadata": {
        "id": "1iJpTz4jRj00",
        "colab_type": "code",
        "outputId": "55563af4-5afc-4ac1-d07b-bcd5f0df658b",
        "colab": {
          "base_uri": "https://localhost:8080/",
          "height": 34
        }
      },
      "source": [
        "print(\"我叫曾品潔ㄛ\")"
      ],
      "execution_count": 0,
      "outputs": [
        {
          "output_type": "stream",
          "text": [
            "我叫曾品潔ㄛ\n"
          ],
          "name": "stdout"
        }
      ]
    },
    {
      "cell_type": "code",
      "metadata": {
        "id": "7WJnLswTRj78",
        "colab_type": "code",
        "outputId": "7685f40d-a83a-439d-89a6-7b2daab6044c",
        "colab": {
          "base_uri": "https://localhost:8080/",
          "height": 34
        }
      },
      "source": [
        "print(\"大家好我叫江曉柔，學號是A108260025，目前就讀世新大學經濟一甲。\")"
      ],
      "execution_count": 0,
      "outputs": [
        {
          "output_type": "stream",
          "text": [
            "大家好我叫江曉柔，學號是A108260025，目前就讀世新大學經濟一甲。\n"
          ],
          "name": "stdout"
        }
      ]
    }
  ]
}