{
  "nbformat": 4,
  "nbformat_minor": 0,
  "metadata": {
    "colab": {
      "name": "a108260045-張靖玟-week16.ipynb",
      "provenance": [],
      "include_colab_link": true
    },
    "kernelspec": {
      "name": "python3",
      "display_name": "Python 3"
    }
  },
  "cells": [
    {
      "cell_type": "markdown",
      "metadata": {
        "id": "view-in-github",
        "colab_type": "text"
      },
      "source": [
        "<a href=\"https://colab.research.google.com/github/jxes993323/Computational-Thinking/blob/master/a108260045_%E5%BC%B5%E9%9D%96%E7%8E%9F_week16.ipynb\" target=\"_parent\"><img src=\"https://colab.research.google.com/assets/colab-badge.svg\" alt=\"Open In Colab\"/></a>"
      ]
    },
    {
      "cell_type": "code",
      "metadata": {
        "id": "WjOr0-9KwoLz",
        "colab_type": "code",
        "colab": {
          "base_uri": "https://localhost:8080/",
          "height": 51
        },
        "outputId": "b2781fca-e53a-4da7-f044-570b01dfa098"
      },
      "source": [
        "answer = \"b246\"\n",
        "\n",
        "while True:\n",
        "  password = input(\"Enter your password? \")\n",
        "  if password == answer:\n",
        "      print(\"ENTER THE SYSTEM\")\n",
        "      break\n",
        "  else:\n",
        "    print(\"Try Again\")"
      ],
      "execution_count": 1,
      "outputs": [
        {
          "output_type": "stream",
          "text": [
            "Enter your password? b246\n",
            "ENTER THE SYSTEM\n"
          ],
          "name": "stdout"
        }
      ]
    },
    {
      "cell_type": "code",
      "metadata": {
        "id": "Gzk0SQnhxz3U",
        "colab_type": "code",
        "colab": {
          "base_uri": "https://localhost:8080/",
          "height": 119
        },
        "outputId": "d020c573-2c33-40d4-80d7-a983b7b7a50f"
      },
      "source": [
        "while True:\n",
        "    acc = input('請輸入帳號?')\n",
        "    pwd = input('請輸入密碼?')\n",
        "    if (acc == 'abc' and pwd == '123'):\n",
        "        print('帳號與密碼正確')\n",
        "        break\n",
        "    else:\n",
        "        print('登入失敗')"
      ],
      "execution_count": 3,
      "outputs": [
        {
          "output_type": "stream",
          "text": [
            "請輸入帳號?123\n",
            "請輸入密碼?123\n",
            "登入失敗\n",
            "請輸入帳號?abc\n",
            "請輸入密碼?123\n",
            "帳號與密碼正確\n"
          ],
          "name": "stdout"
        }
      ]
    },
    {
      "cell_type": "code",
      "metadata": {
        "id": "nPQ6ktgvzgrr",
        "colab_type": "code",
        "colab": {}
      },
      "source": [
        ""
      ],
      "execution_count": 0,
      "outputs": []
    }
  ]
}