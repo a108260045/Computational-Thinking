{
  "nbformat": 4,
  "nbformat_minor": 0,
  "metadata": {
    "colab": {
      "name": "week9-a108260045-張靖玟.ipynb",
      "provenance": [],
      "include_colab_link": true
    },
    "kernelspec": {
      "name": "python3",
      "display_name": "Python 3"
    }
  },
  "cells": [
    {
      "cell_type": "markdown",
      "metadata": {
        "id": "view-in-github",
        "colab_type": "text"
      },
      "source": [
        "<a href=\"https://colab.research.google.com/github/jxes993323/Computational-Thinking/blob/master/week9_a108260045_%E5%BC%B5%E9%9D%96%E7%8E%9F.ipynb\" target=\"_parent\"><img src=\"https://colab.research.google.com/assets/colab-badge.svg\" alt=\"Open In Colab\"/></a>"
      ]
    },
    {
      "cell_type": "code",
      "metadata": {
        "id": "N2RuDz2SgCjZ",
        "colab_type": "code",
        "colab": {
          "base_uri": "https://localhost:8080/",
          "height": 51
        },
        "outputId": "6c113371-00b0-4745-88df-d20e727234d1"
      },
      "source": [
        "score = int(input('請輸入⼀個成績？'))\n",
        "if score >= 60:\n",
        " print('很好，請繼續保持下去')"
      ],
      "execution_count": 1,
      "outputs": [
        {
          "output_type": "stream",
          "text": [
            "請輸入⼀個成績？88\n",
            "很好，請繼續保持下去\n"
          ],
          "name": "stdout"
        }
      ]
    },
    {
      "cell_type": "code",
      "metadata": {
        "id": "O5TaRh2JhMjz",
        "colab_type": "code",
        "colab": {
          "base_uri": "https://localhost:8080/",
          "height": 51
        },
        "outputId": "c788e5be-ffcc-46ae-aeaf-4c46536d0b00"
      },
      "source": [
        "score = int(input('請輸入⼀個成績？'))\n",
        "if score >= 60:\n",
        " print('有及格ㄡ～')\n",
        "else:\n",
        " print('不及格ㄟ！')"
      ],
      "execution_count": 2,
      "outputs": [
        {
          "output_type": "stream",
          "text": [
            "請輸入⼀個成績？50\n",
            "不及格ㄟ！\n"
          ],
          "name": "stdout"
        }
      ]
    },
    {
      "cell_type": "code",
      "metadata": {
        "id": "hRUrEj8shSct",
        "colab_type": "code",
        "colab": {
          "base_uri": "https://localhost:8080/",
          "height": 51
        },
        "outputId": "d180dca3-9fba-4685-9a1b-9268825a4768"
      },
      "source": [
        "score = int(input('請輸入⼀個成績？'))\n",
        "if score >= 80:\n",
        " print('非常好')\n",
        "elif score >= 60:\n",
        " print('不錯喔')\n",
        "else:\n",
        " print('要加油')"
      ],
      "execution_count": 3,
      "outputs": [
        {
          "output_type": "stream",
          "text": [
            "請輸入⼀個成績？66\n",
            "不錯喔\n"
          ],
          "name": "stdout"
        }
      ]
    },
    {
      "cell_type": "code",
      "metadata": {
        "id": "-Z_tmdZuhXDT",
        "colab_type": "code",
        "colab": {
          "base_uri": "https://localhost:8080/",
          "height": 68
        },
        "outputId": "b0f6446b-135f-408c-80b3-22fe814c5a51"
      },
      "source": [
        "x = float(input('請輸入該點的X座標？')) #Input\n",
        "y = float(input('請輸入該點的Y座標？'))\n",
        "if (x > 0):\n",
        " if (y > 0):\n",
        "   print('該點在第⼀象限') #X⼤於0,Y⼤於0\n",
        " else:\n",
        "   print('該點在第四象限') #X⼤於0,Y⼩於0\n",
        "else:\n",
        " if (y > 0):\n",
        "   print('該點在第⼆象限') #X⼩於0,Y⼤於0\n",
        " else:\n",
        "   print('該點在第三象限') #X⼩於0,Y⼩於0"
      ],
      "execution_count": 5,
      "outputs": [
        {
          "output_type": "stream",
          "text": [
            "請輸入該點的X座標？1\n",
            "請輸入該點的Y座標？1\n",
            "該點在第⼀象限\n"
          ],
          "name": "stdout"
        }
      ]
    },
    {
      "cell_type": "code",
      "metadata": {
        "id": "R7XLnkv8jPXZ",
        "colab_type": "code",
        "colab": {
          "base_uri": "https://localhost:8080/",
          "height": 51
        },
        "outputId": "8dd5ba67-94b6-4778-c70f-251293225e5c"
      },
      "source": [
        "cost = int(input('請輸入購買⾦額？'))\n",
        "if cost >= 2000:\n",
        " print(cost * 0.9)\n",
        "else:\n",
        " print(cost)"
      ],
      "execution_count": 6,
      "outputs": [
        {
          "output_type": "stream",
          "text": [
            "請輸入購買⾦額？2000\n",
            "1800.0\n"
          ],
          "name": "stdout"
        }
      ]
    },
    {
      "cell_type": "code",
      "metadata": {
        "id": "LxJKB7DXjaoz",
        "colab_type": "code",
        "colab": {
          "base_uri": "https://localhost:8080/",
          "height": 51
        },
        "outputId": "8ba0a8d6-1009-4c2e-805d-831d5e39049c"
      },
      "source": [
        "# 版本（⼀）\n",
        "num = int(input('請輸入⼀個整數？'))\n",
        "if num % 2 == 0: #餘數為0是偶數\n",
        " print(num, '為偶數')\n",
        "else:\n",
        " print(num, '為奇數')"
      ],
      "execution_count": 7,
      "outputs": [
        {
          "output_type": "stream",
          "text": [
            "請輸入⼀個整數？13\n",
            "13 為奇數\n"
          ],
          "name": "stdout"
        }
      ]
    },
    {
      "cell_type": "code",
      "metadata": {
        "id": "KCsr7KnAjfbB",
        "colab_type": "code",
        "colab": {
          "base_uri": "https://localhost:8080/",
          "height": 85
        },
        "outputId": "fc806f8a-4d9e-4847-e001-072e30019ae4"
      },
      "source": [
        "a = int(input('請輸入三⾓形邊長a長度為？'))\n",
        "b = int(input('請輸入三⾓形邊長b長度為？'))\n",
        "c = int(input('請輸入三⾓形邊長c長度為？'))\n",
        "if (a<b+c)and(b<a+c)and(c<a+b): #任兩邊相加是否⼤於第三邊\n",
        " print('可構成三⾓形')\n",
        "else:\n",
        " print('無法構成三⾓形')"
      ],
      "execution_count": 8,
      "outputs": [
        {
          "output_type": "stream",
          "text": [
            "請輸入三⾓形邊長a長度為？11\n",
            "請輸入三⾓形邊長b長度為？2\n",
            "請輸入三⾓形邊長c長度為？13\n",
            "無法構成三⾓形\n"
          ],
          "name": "stdout"
        }
      ]
    },
    {
      "cell_type": "code",
      "metadata": {
        "id": "axhKwGOxjnEF",
        "colab_type": "code",
        "colab": {
          "base_uri": "https://localhost:8080/",
          "height": 85
        },
        "outputId": "d45c9a1b-0465-4dec-f7f1-51debf6f84ab"
      },
      "source": [
        "w = float(input('請輸入體重(KG)？')) #Input\n",
        "h = float(input('請輸入⾝⾼(M)？'))\n",
        "bmi = w/(h*h) #Process\n",
        "print('BMI為', bmi) #Output\n",
        "# BMI分類\n",
        "if bmi < 18:\n",
        " print('體重過輕')\n",
        "elif bmi < 24:\n",
        " print('體重正常')\n",
        "elif bmi < 27:\n",
        " print('體重過重')\n",
        "else:\n",
        " print('體重肥胖')"
      ],
      "execution_count": 9,
      "outputs": [
        {
          "output_type": "stream",
          "text": [
            "請輸入體重(KG)？75\n",
            "請輸入⾝⾼(M)？1.7\n",
            "BMI為 25.95155709342561\n",
            "體重過重\n"
          ],
          "name": "stdout"
        }
      ]
    },
    {
      "cell_type": "code",
      "metadata": {
        "id": "FbHMrlA1m-jt",
        "colab_type": "code",
        "colab": {}
      },
      "source": [
        ""
      ],
      "execution_count": 0,
      "outputs": []
    }
  ]
}