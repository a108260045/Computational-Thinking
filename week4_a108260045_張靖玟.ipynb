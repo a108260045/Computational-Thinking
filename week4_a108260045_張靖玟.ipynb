{
  "nbformat": 4,
  "nbformat_minor": 0,
  "metadata": {
    "colab": {
      "name": "week4-a108260045-張靖玟.ipynb",
      "provenance": [],
      "collapsed_sections": [],
      "include_colab_link": true
    },
    "kernelspec": {
      "name": "python3",
      "display_name": "Python 3"
    }
  },
  "cells": [
    {
      "cell_type": "markdown",
      "metadata": {
        "id": "view-in-github",
        "colab_type": "text"
      },
      "source": [
        "<a href=\"https://colab.research.google.com/github/jxes993323/Computational-Thinking/blob/master/week4_a108260045_%E5%BC%B5%E9%9D%96%E7%8E%9F.ipynb\" target=\"_parent\"><img src=\"https://colab.research.google.com/assets/colab-badge.svg\" alt=\"Open In Colab\"/></a>"
      ]
    },
    {
      "cell_type": "code",
      "metadata": {
        "id": "zLNjjQSBRWNk",
        "colab_type": "code",
        "outputId": "7405b609-7af3-448d-877a-777afac144d4",
        "colab": {
          "base_uri": "https://localhost:8080/",
          "height": 165
        }
      },
      "source": [
        "print(a)"
      ],
      "execution_count": 0,
      "outputs": [
        {
          "output_type": "error",
          "ename": "NameError",
          "evalue": "ignored",
          "traceback": [
            "\u001b[0;31m---------------------------------------------------------------------------\u001b[0m",
            "\u001b[0;31mNameError\u001b[0m                                 Traceback (most recent call last)",
            "\u001b[0;32m<ipython-input-1-bca0e2660b9f>\u001b[0m in \u001b[0;36m<module>\u001b[0;34m()\u001b[0m\n\u001b[0;32m----> 1\u001b[0;31m \u001b[0mprint\u001b[0m\u001b[0;34m(\u001b[0m\u001b[0ma\u001b[0m\u001b[0;34m)\u001b[0m\u001b[0;34m\u001b[0m\u001b[0;34m\u001b[0m\u001b[0m\n\u001b[0m",
            "\u001b[0;31mNameError\u001b[0m: name 'a' is not defined"
          ]
        }
      ]
    },
    {
      "cell_type": "code",
      "metadata": {
        "id": "vN-iw8DERj6C",
        "colab_type": "code",
        "outputId": "f09877fa-a802-4762-91cd-d90fe1bf957d",
        "colab": {
          "base_uri": "https://localhost:8080/",
          "height": 34
        }
      },
      "source": [
        "a=1\n",
        "a"
      ],
      "execution_count": 0,
      "outputs": [
        {
          "output_type": "execute_result",
          "data": {
            "text/plain": [
              "1"
            ]
          },
          "metadata": {
            "tags": []
          },
          "execution_count": 2
        }
      ]
    },
    {
      "cell_type": "code",
      "metadata": {
        "id": "4Cd6HBQhRugs",
        "colab_type": "code",
        "outputId": "c2a78215-12b4-4fbc-81fc-e2cec514c0ac",
        "colab": {
          "base_uri": "https://localhost:8080/",
          "height": 34
        }
      },
      "source": [
        "a=\"python\"\n",
        "a"
      ],
      "execution_count": 0,
      "outputs": [
        {
          "output_type": "execute_result",
          "data": {
            "text/plain": [
              "'python'"
            ]
          },
          "metadata": {
            "tags": []
          },
          "execution_count": 3
        }
      ]
    },
    {
      "cell_type": "code",
      "metadata": {
        "id": "pgOvFjiRRz7B",
        "colab_type": "code",
        "colab": {}
      },
      "source": [
        "a=123\n",
        "b=123.456\n",
        "c=\"python\"\n",
        "d=False"
      ],
      "execution_count": 0,
      "outputs": []
    },
    {
      "cell_type": "code",
      "metadata": {
        "id": "jmOolk5ESDzr",
        "colab_type": "code",
        "outputId": "e7df6d05-4982-4a06-b865-88783a59fb58",
        "colab": {
          "base_uri": "https://localhost:8080/",
          "height": 51
        }
      },
      "source": [
        "a=1\n",
        "print(a, id(a))\n",
        "b=\"python\"\n",
        "print(b,id(b))"
      ],
      "execution_count": 0,
      "outputs": [
        {
          "output_type": "stream",
          "text": [
            "1 10968800\n",
            "python 139840663947672\n"
          ],
          "name": "stdout"
        }
      ]
    },
    {
      "cell_type": "code",
      "metadata": {
        "id": "DppWOXNTSfv1",
        "colab_type": "code",
        "outputId": "85c24b22-3b12-4b98-f588-e348ee2d4b79",
        "colab": {
          "base_uri": "https://localhost:8080/",
          "height": 34
        }
      },
      "source": [
        "x=1\n",
        "y=2\n",
        "print(id(x), id(y))"
      ],
      "execution_count": 0,
      "outputs": [
        {
          "output_type": "stream",
          "text": [
            "10968800 10968832\n"
          ],
          "name": "stdout"
        }
      ]
    },
    {
      "cell_type": "code",
      "metadata": {
        "id": "fm1iJLSkS9tm",
        "colab_type": "code",
        "outputId": "43220197-a0d8-48c8-c43e-5327ef65ff99",
        "colab": {
          "base_uri": "https://localhost:8080/",
          "height": 34
        }
      },
      "source": [
        "import sys\n",
        "\n",
        "x=18\n",
        "sys.getsizeof(x)"
      ],
      "execution_count": 0,
      "outputs": [
        {
          "output_type": "execute_result",
          "data": {
            "text/plain": [
              "28"
            ]
          },
          "metadata": {
            "tags": []
          },
          "execution_count": 11
        }
      ]
    },
    {
      "cell_type": "code",
      "metadata": {
        "id": "TEYfOJbvTTOU",
        "colab_type": "code",
        "outputId": "57bc526d-2836-4442-8585-b7a9a4c5d392",
        "colab": {
          "base_uri": "https://localhost:8080/",
          "height": 204
        }
      },
      "source": [
        "print(False)\n",
        "print(True)\n",
        "print(False+3)\n",
        "print(True+3)\n",
        "print(False==0)\n",
        "print(True==1)\n",
        "\n",
        "print(False, type(False))\n",
        "print(True+1, type(True+1))\n",
        "\n",
        "print(bool(1))\n",
        "print(bool(0))\n",
        "print(bool(()))"
      ],
      "execution_count": 0,
      "outputs": [
        {
          "output_type": "stream",
          "text": [
            "False\n",
            "True\n",
            "3\n",
            "4\n",
            "True\n",
            "True\n",
            "False <class 'bool'>\n",
            "2 <class 'int'>\n",
            "True\n",
            "False\n",
            "False\n"
          ],
          "name": "stdout"
        }
      ]
    },
    {
      "cell_type": "code",
      "metadata": {
        "id": "7Pwbsd0sVs2k",
        "colab_type": "code",
        "outputId": "e05251a9-8d4e-4833-a24d-d2ddd59572f2",
        "colab": {
          "base_uri": "https://localhost:8080/",
          "height": 102
        }
      },
      "source": [
        "a=100\n",
        "b=100.001\n",
        "\n",
        "print(type(100))\n",
        "print(type(100.001))\n",
        "\n",
        "print(int(100))\n",
        "print(float(100.001))\n",
        "\n",
        "print(0.1+0.1+0.1)"
      ],
      "execution_count": 0,
      "outputs": [
        {
          "output_type": "stream",
          "text": [
            "<class 'int'>\n",
            "<class 'float'>\n",
            "100\n",
            "100.001\n",
            "0.30000000000000004\n"
          ],
          "name": "stdout"
        }
      ]
    },
    {
      "cell_type": "code",
      "metadata": {
        "id": "NITxB8G7WZK0",
        "colab_type": "code",
        "outputId": "21f4fbc8-b022-44ed-a45a-3eb567012ed4",
        "colab": {
          "base_uri": "https://localhost:8080/",
          "height": 153
        }
      },
      "source": [
        "s1='春眠不覺曉,處處聞啼鳥。'\n",
        "print(s1)\n",
        "\n",
        "s2=\"夜來風雨聲,花落知多少。\"\n",
        "print(s2)\n",
        "\n",
        "s3='作者\"孟浩然\" 詩名\"春曉\"'\n",
        "print(s3)\n",
        "\n",
        "s4=\"作者'孟浩然' 詩名'春曉'\"\n",
        "print(s4)\n",
        "\n",
        "s5= '''  春眠不覺曉,處處聞啼鳥。\n",
        "  夜來風雨聲,花落知多少。\n",
        "  作者\"孟浩然\" 詩名\"春曉\"\n",
        "'''\n",
        "print(s5)"
      ],
      "execution_count": 0,
      "outputs": [
        {
          "output_type": "stream",
          "text": [
            "春眠不覺曉,處處聞啼鳥。\n",
            "夜來風雨聲,花落知多少。\n",
            "作者\"孟浩然\" 詩名\"春曉\"\n",
            "作者'孟浩然' 詩名'春曉'\n",
            "  春眠不覺曉,處處聞啼鳥。\n",
            "  夜來風雨聲,花落知多少。\n",
            "  作者\"孟浩然\" 詩名\"春曉\"\n",
            "\n"
          ],
          "name": "stdout"
        }
      ]
    },
    {
      "cell_type": "code",
      "metadata": {
        "id": "STxtTo0QYMkd",
        "colab_type": "code",
        "outputId": "8ef98b52-fa4e-4952-996c-c70e3ea57623",
        "colab": {
          "base_uri": "https://localhost:8080/",
          "height": 68
        }
      },
      "source": [
        "a=123\n",
        "b=123.456\n",
        "\n",
        "print(a)\n",
        "\n",
        "print(\"b=\", b)\n",
        "\n",
        "print(a, b,end= '.')"
      ],
      "execution_count": 0,
      "outputs": [
        {
          "output_type": "stream",
          "text": [
            "123\n",
            "b= 123.456\n",
            "123 123.456."
          ],
          "name": "stdout"
        }
      ]
    },
    {
      "cell_type": "code",
      "metadata": {
        "id": "Z9zrvE-WZKuW",
        "colab_type": "code",
        "outputId": "a535097a-4515-423d-b147-4079ef22c0b0",
        "colab": {
          "base_uri": "https://localhost:8080/",
          "height": 85
        }
      },
      "source": [
        "print(\"Bigflower Francis\")\n",
        "\n",
        "print(\"Bigflower \\n Francis\") # 跳⾏\n",
        "\n",
        "print(\"Bigflower \\t Francis\") # 8個空格tab"
      ],
      "execution_count": 0,
      "outputs": [
        {
          "output_type": "stream",
          "text": [
            "Bigflower Francis\n",
            "Bigflower \n",
            " Francis\n",
            "Bigflower \t Francis\n"
          ],
          "name": "stdout"
        }
      ]
    },
    {
      "cell_type": "code",
      "metadata": {
        "id": "Jeb2riuqaOKN",
        "colab_type": "code",
        "outputId": "464702de-0574-4bd9-b076-37cd297d0708",
        "colab": {
          "base_uri": "https://localhost:8080/",
          "height": 51
        }
      },
      "source": [
        "s = input()\n",
        "s"
      ],
      "execution_count": 0,
      "outputs": [
        {
          "output_type": "stream",
          "text": [
            "hi\n"
          ],
          "name": "stdout"
        },
        {
          "output_type": "execute_result",
          "data": {
            "text/plain": [
              "'hi'"
            ]
          },
          "metadata": {
            "tags": []
          },
          "execution_count": 24
        }
      ]
    },
    {
      "cell_type": "code",
      "metadata": {
        "id": "KdkRT0u7aZcY",
        "colab_type": "code",
        "outputId": "07353e6f-8e00-4d5b-d5f3-2607ff43ea9d",
        "colab": {
          "base_uri": "https://localhost:8080/",
          "height": 51
        }
      },
      "source": [
        "s = input(\"Enter Your Name:\")\n",
        "s"
      ],
      "execution_count": 0,
      "outputs": [
        {
          "output_type": "stream",
          "text": [
            "Enter Your Name:judy\n"
          ],
          "name": "stdout"
        },
        {
          "output_type": "execute_result",
          "data": {
            "text/plain": [
              "'judy'"
            ]
          },
          "metadata": {
            "tags": []
          },
          "execution_count": 25
        }
      ]
    },
    {
      "cell_type": "code",
      "metadata": {
        "id": "uFtLvfNMaxd0",
        "colab_type": "code",
        "outputId": "e36a013e-8bbd-4a01-9798-23f882aa4dc1",
        "colab": {
          "base_uri": "https://localhost:8080/",
          "height": 51
        }
      },
      "source": [
        "s = input (\"Enter Your Name:\")\n",
        "print(\"Hi,\", s)"
      ],
      "execution_count": 0,
      "outputs": [
        {
          "output_type": "stream",
          "text": [
            "Enter Your Name:judy\n",
            "Hi, judy\n"
          ],
          "name": "stdout"
        }
      ]
    },
    {
      "cell_type": "code",
      "metadata": {
        "id": "9frap_4na35y",
        "colab_type": "code",
        "outputId": "77420840-9051-46e4-825f-2a6690747673",
        "colab": {
          "base_uri": "https://localhost:8080/",
          "height": 199
        }
      },
      "source": [
        "s = input (\"Enter Your Number:\")\n",
        "print(s+100)"
      ],
      "execution_count": 0,
      "outputs": [
        {
          "output_type": "stream",
          "text": [
            "Enter Your Number:123\n"
          ],
          "name": "stdout"
        },
        {
          "output_type": "error",
          "ename": "TypeError",
          "evalue": "ignored",
          "traceback": [
            "\u001b[0;31m---------------------------------------------------------------------------\u001b[0m",
            "\u001b[0;31mTypeError\u001b[0m                                 Traceback (most recent call last)",
            "\u001b[0;32m<ipython-input-27-1a730fa1c753>\u001b[0m in \u001b[0;36m<module>\u001b[0;34m()\u001b[0m\n\u001b[1;32m      1\u001b[0m \u001b[0ms\u001b[0m \u001b[0;34m=\u001b[0m \u001b[0minput\u001b[0m \u001b[0;34m(\u001b[0m\u001b[0;34m\"Enter Your Number:\"\u001b[0m\u001b[0;34m)\u001b[0m\u001b[0;34m\u001b[0m\u001b[0;34m\u001b[0m\u001b[0m\n\u001b[0;32m----> 2\u001b[0;31m \u001b[0mprint\u001b[0m\u001b[0;34m(\u001b[0m\u001b[0ms\u001b[0m\u001b[0;34m+\u001b[0m\u001b[0;36m100\u001b[0m\u001b[0;34m)\u001b[0m\u001b[0;34m\u001b[0m\u001b[0;34m\u001b[0m\u001b[0m\n\u001b[0m",
            "\u001b[0;31mTypeError\u001b[0m: must be str, not int"
          ]
        }
      ]
    },
    {
      "cell_type": "code",
      "metadata": {
        "id": "OX4_olv-bPHe",
        "colab_type": "code",
        "colab": {
          "base_uri": "https://localhost:8080/",
          "height": 153
        },
        "outputId": "03e195d5-1a92-4b9c-b725-81c81c17057b"
      },
      "source": [
        "s = int(input(\"Enter Your Number:\"))\n",
        "print(100 + s)\n",
        "\n",
        "s = float(input(\"Enter Your Number:\"))\n",
        "print(100 + s)\n",
        "\n",
        "s = eval(input(\"Enter Your Number:\"))\n",
        "print(100 + s)\n",
        "\n",
        "s = eval(input(\"Enter Your Number:\"))\n",
        "print(100 + s)"
      ],
      "execution_count": 1,
      "outputs": [
        {
          "output_type": "stream",
          "text": [
            "Enter Your Number:123\n",
            "223\n",
            "Enter Your Number:123\n",
            "223.0\n",
            "Enter Your Number:123\n",
            "223\n",
            "Enter Your Number:123.0\n",
            "223.0\n"
          ],
          "name": "stdout"
        }
      ]
    },
    {
      "cell_type": "code",
      "metadata": {
        "id": "e3ls492zJuEo",
        "colab_type": "code",
        "colab": {
          "base_uri": "https://localhost:8080/",
          "height": 119
        },
        "outputId": "463cdc49-1248-4c1a-8215-2ab227df76b6"
      },
      "source": [
        "print (5<2)\n",
        "print (5<=2)\n",
        "print (5>2)\n",
        "print(5>=2)\n",
        "print(5!=2)\n",
        "print(5==2)"
      ],
      "execution_count": 2,
      "outputs": [
        {
          "output_type": "stream",
          "text": [
            "False\n",
            "False\n",
            "True\n",
            "True\n",
            "True\n",
            "False\n"
          ],
          "name": "stdout"
        }
      ]
    },
    {
      "cell_type": "code",
      "metadata": {
        "id": "11dt4sG4J-IK",
        "colab_type": "code",
        "colab": {
          "base_uri": "https://localhost:8080/",
          "height": 68
        },
        "outputId": "321ee665-25f8-468d-c0a4-249f5bcbc90e"
      },
      "source": [
        "X = 70\n",
        "print((X>60) and (X<80))\n",
        "print((X>60) or (X<80))\n",
        "print(not(X>60))\n"
      ],
      "execution_count": 3,
      "outputs": [
        {
          "output_type": "stream",
          "text": [
            "True\n",
            "True\n",
            "False\n"
          ],
          "name": "stdout"
        }
      ]
    },
    {
      "cell_type": "code",
      "metadata": {
        "id": "o0TXuw6UKD-g",
        "colab_type": "code",
        "colab": {
          "base_uri": "https://localhost:8080/",
          "height": 102
        },
        "outputId": "965c92bd-0c84-411c-d9d9-c1e7819df661"
      },
      "source": [
        "x = 1\n",
        "y = [1,2,3]\n",
        "\n",
        "print(x in y)\n",
        "print( x not in y)\n",
        "\n",
        "x = [1,2,3]\n",
        "y = [1,2,3]\n",
        "\n",
        "print(id(x), id(y))\n",
        "\n",
        "print(x is y)\n",
        "print(x is not y)\n"
      ],
      "execution_count": 4,
      "outputs": [
        {
          "output_type": "stream",
          "text": [
            "True\n",
            "False\n",
            "140316546848584 140316547281160\n",
            "False\n",
            "True\n"
          ],
          "name": "stdout"
        }
      ]
    },
    {
      "cell_type": "code",
      "metadata": {
        "id": "aiiP8ikXKO4r",
        "colab_type": "code",
        "colab": {
          "base_uri": "https://localhost:8080/",
          "height": 136
        },
        "outputId": "a3fec00a-cd9c-450a-8802-48d13b200836"
      },
      "source": [
        "print(5 + 2) \n",
        "print(5 - 2) \n",
        "print(5 * 2) \n",
        "print(5 / 2) \n",
        "print(5 // 2) \n",
        "print(5 % 2) \n",
        "print(5 ** 2) "
      ],
      "execution_count": 5,
      "outputs": [
        {
          "output_type": "stream",
          "text": [
            "7\n",
            "3\n",
            "10\n",
            "2.5\n",
            "2\n",
            "1\n",
            "25\n"
          ],
          "name": "stdout"
        }
      ]
    },
    {
      "cell_type": "code",
      "metadata": {
        "id": "-APltncgKc_s",
        "colab_type": "code",
        "colab": {
          "base_uri": "https://localhost:8080/",
          "height": 153
        },
        "outputId": "87b427cd-4d69-4ead-be92-6ea2d8257d25"
      },
      "source": [
        "a = 5\n",
        "a = a + 2\n",
        "print(a) #7\n",
        "\n",
        "a+=2 \n",
        "print(a) #9\n",
        "\n",
        "a-=2 \n",
        "print(a)\n",
        "\n",
        "a*=2 \n",
        "print(a)\n",
        "\n",
        "a/=2 \n",
        "print(a)\n",
        "\n",
        "a//=2 \n",
        "print(a)\n",
        "\n",
        "a%=2 \n",
        "print(a)\n",
        "\n",
        "a**=2 \n",
        "print(a)\n"
      ],
      "execution_count": 6,
      "outputs": [
        {
          "output_type": "stream",
          "text": [
            "7\n",
            "9\n",
            "7\n",
            "14\n",
            "7.0\n",
            "3.0\n",
            "1.0\n",
            "1.0\n"
          ],
          "name": "stdout"
        }
      ]
    },
    {
      "cell_type": "code",
      "metadata": {
        "id": "JXaAhv3fK7pt",
        "colab_type": "code",
        "colab": {
          "base_uri": "https://localhost:8080/",
          "height": 102
        },
        "outputId": "9a2d075a-7c83-4443-b96b-8f3a4bf91200"
      },
      "source": [
        "s1 =\"123\"\n",
        "s2 = \"456\"\n",
        "s3 = s1+s2\n",
        "print(s3)\n",
        "\n",
        "s4 = s1*2\n",
        "print(s4)\n",
        "\n",
        "\n",
        "s5 = '春眠不覺曉，處處聞啼⿃。\\n\\\n",
        "夜來風雨聲，花落知多少。\\n\\\n",
        "\\t作者\"孟浩然\" 詩名\"春曉\"'\n",
        "print(s5)\n"
      ],
      "execution_count": 7,
      "outputs": [
        {
          "output_type": "stream",
          "text": [
            "123456\n",
            "123123\n",
            "春眠不覺曉，處處聞啼⿃。\n",
            "夜來風雨聲，花落知多少。\n",
            "\t作者\"孟浩然\" 詩名\"春曉\"\n"
          ],
          "name": "stdout"
        }
      ]
    },
    {
      "cell_type": "code",
      "metadata": {
        "id": "Kkv6a72RL5JO",
        "colab_type": "code",
        "colab": {
          "base_uri": "https://localhost:8080/",
          "height": 357
        },
        "outputId": "7bff2cfe-0a23-4995-918a-c34e987b51d1"
      },
      "source": [
        "#位置索引\n",
        "s = '123456789'\n",
        "print(s[0]) #位置索引從0開始，不是1開始\n",
        "print(s[1])\n",
        "print(s[-1]) #從右到左倒過來的第⼀個位置，加負號\n",
        "print(s[-2])\n",
        "\n",
        "#切片\n",
        "\n",
        "s = '0123456789'\n",
        "#索引\n",
        "print('s=', s)\n",
        "print('s[0]=', s[0])\n",
        "print('s[1]=', s[1])\n",
        "print('s[-1]=', s[-1])\n",
        "print('s[-2]=', s[-2])\n",
        "\n",
        "#切片\n",
        "print('s=', s, 's[:]=', s[:]) #從頭到尾\n",
        "print('s=', s, 's[5:]=', s[5:]) #到尾\n",
        "print('s=', s, 's[-2:]=', s[-2:])\n",
        "print('s=', s, 's[:5]=', s[:5]) #從頭\n",
        "print('s=', s, 's[:-2]=', s[:-2])\n",
        "print('s=', s, 's[7:9]=', s[7:9])# 範圍\n",
        "print('s=', s, 's[-4:-1]=', s[-4:-1])\n",
        "print('s=', s, 's[5:-2]=', s[5:-2])\n",
        "print('s=', s, 's[2:10:2]=', s[2:10:2])\n",
        "print('s=', s, 's[::-1]=', s[::-1])\n",
        "print('s=', s, 's[-1::-1]=', s[-1::-1])\n"
      ],
      "execution_count": 8,
      "outputs": [
        {
          "output_type": "stream",
          "text": [
            "1\n",
            "2\n",
            "9\n",
            "8\n",
            "s= 0123456789\n",
            "s[0]= 0\n",
            "s[1]= 1\n",
            "s[-1]= 9\n",
            "s[-2]= 8\n",
            "s= 0123456789 s[:]= 0123456789\n",
            "s= 0123456789 s[5:]= 56789\n",
            "s= 0123456789 s[-2:]= 89\n",
            "s= 0123456789 s[:5]= 01234\n",
            "s= 0123456789 s[:-2]= 01234567\n",
            "s= 0123456789 s[7:9]= 78\n",
            "s= 0123456789 s[-4:-1]= 678\n",
            "s= 0123456789 s[5:-2]= 567\n",
            "s= 0123456789 s[2:10:2]= 2468\n",
            "s= 0123456789 s[::-1]= 9876543210\n",
            "s= 0123456789 s[-1::-1]= 9876543210\n"
          ],
          "name": "stdout"
        }
      ]
    },
    {
      "cell_type": "code",
      "metadata": {
        "id": "13XbuXNoMFiQ",
        "colab_type": "code",
        "colab": {
          "base_uri": "https://localhost:8080/",
          "height": 136
        },
        "outputId": "0a55f14a-782d-4f1f-e5d3-a55be7614324"
      },
      "source": [
        "# 數字：內建函數\n",
        "\n",
        "a = -2\n",
        "print(abs(a)) #絕對值\n",
        "print(abs(-10))\n",
        "\n",
        "print(max(1,2,3,4,5)) #極⼤值\n",
        "print(min(1,2,3,4,5)) #極⼩值\n",
        "\n",
        "print(pow(2,3)) ##次⽅ pow(a,b)為a的b次⽅\n",
        "\n",
        "print(round(5.8)) #四捨五入\n",
        "print(round(3.14159,2)) #取⼩數點兩位死捨五入\n"
      ],
      "execution_count": 9,
      "outputs": [
        {
          "output_type": "stream",
          "text": [
            "2\n",
            "10\n",
            "5\n",
            "1\n",
            "8\n",
            "6\n",
            "3.14\n"
          ],
          "name": "stdout"
        }
      ]
    },
    {
      "cell_type": "code",
      "metadata": {
        "id": "BAj-F7SsMXpn",
        "colab_type": "code",
        "colab": {
          "base_uri": "https://localhost:8080/",
          "height": 68
        },
        "outputId": "02f3db83-e839-4ea6-c0c4-e5b10bf65030"
      },
      "source": [
        "s = '春眠不覺曉，處處聞啼⿃，夜來風雨聲，花落知多少。'\n",
        "print(len(s))\n",
        "\n",
        "s1='春眠不覺曉，處處聞啼⿃，夜來風雨聲，花落知多少。'\n",
        "list1=s1.split('，') #以逗號，分割字串\n",
        "print(list1)\n",
        "\n",
        "list1 = ['春眠不覺曉','處處聞啼⿃','夜來風雨聲','花落知多少。']\n",
        "s2='，'.join(list1) #以逗號，連接字串\n",
        "print(s2)\n"
      ],
      "execution_count": 10,
      "outputs": [
        {
          "output_type": "stream",
          "text": [
            "24\n",
            "['春眠不覺曉', '處處聞啼⿃', '夜來風雨聲', '花落知多少。']\n",
            "春眠不覺曉，處處聞啼⿃，夜來風雨聲，花落知多少。\n"
          ],
          "name": "stdout"
        }
      ]
    },
    {
      "cell_type": "code",
      "metadata": {
        "id": "r6IBGLSWMfw1",
        "colab_type": "code",
        "colab": {
          "base_uri": "https://localhost:8080/",
          "height": 153
        },
        "outputId": "a87d3678-56b2-41cd-9a8a-0c1d44ca7ee9"
      },
      "source": [
        "s1='春眠不覺曉，處處聞啼⿃，夜來風雨聲，花落知多少。'\n",
        "s3=s1.replace('春','冬') #以冬替代春（冬眠不覺曉）\n",
        "print(s3)\n",
        "\n",
        "s1='春眠不覺曉，處處聞啼⿃，夜來風雨聲，花落知多少。'\n",
        "\n",
        "print(s1.find('花落')) #尋找\n",
        "print(s1.count('處')) #計次\n",
        "\n",
        "s1='An apple a day.'\n",
        "print(s1.capitalize())\n",
        "print(s1.title())\n",
        "print(s1.swapcase())\n",
        "print(s1.upper())\n",
        "print(s1.lower())\n"
      ],
      "execution_count": 11,
      "outputs": [
        {
          "output_type": "stream",
          "text": [
            "冬眠不覺曉，處處聞啼⿃，夜來風雨聲，花落知多少。\n",
            "18\n",
            "2\n",
            "An apple a day.\n",
            "An Apple A Day.\n",
            "aN APPLE A DAY.\n",
            "AN APPLE A DAY.\n",
            "an apple a day.\n"
          ],
          "name": "stdout"
        }
      ]
    },
    {
      "cell_type": "code",
      "metadata": {
        "id": "immO5WrvMo9-",
        "colab_type": "code",
        "colab": {
          "base_uri": "https://localhost:8080/",
          "height": 170
        },
        "outputId": "ef1b1052-e7ad-4480-df97-b31c8c187509"
      },
      "source": [
        "s1='春眠不覺曉，處處聞啼⿃，夜來風雨聲，花落知多少。'\n",
        "print(s1.startswith('春眠'))\n",
        "print(s1.endswith('多少。'))\n",
        "\n",
        "\n",
        "s1='春眠不覺曉'\n",
        "print(s1.center(10))\n",
        "print(s1.rjust(10))\n",
        "print(s1.ljust(10))\n",
        "\n",
        "\n",
        "s1='123'\n",
        "print(s1.zfill(5))\n",
        "\n",
        "s1=' Hello,Mary. '\n",
        "print(s1.strip())\n",
        "print(s1.lstrip(' H'))\n",
        "print(s1.rstrip(' .'))\n"
      ],
      "execution_count": 12,
      "outputs": [
        {
          "output_type": "stream",
          "text": [
            "True\n",
            "True\n",
            "  春眠不覺曉   \n",
            "     春眠不覺曉\n",
            "春眠不覺曉     \n",
            "00123\n",
            "Hello,Mary.\n",
            "ello,Mary. \n",
            " Hello,Mary\n"
          ],
          "name": "stdout"
        }
      ]
    },
    {
      "cell_type": "code",
      "metadata": {
        "id": "PwRnXH5GM173",
        "colab_type": "code",
        "colab": {}
      },
      "source": [
        ""
      ],
      "execution_count": 0,
      "outputs": []
    }
  ]
}