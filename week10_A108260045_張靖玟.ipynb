{
  "nbformat": 4,
  "nbformat_minor": 0,
  "metadata": {
    "colab": {
      "name": "week10-A108260045-張靖玟.ipynb",
      "provenance": [],
      "include_colab_link": true
    },
    "kernelspec": {
      "name": "python3",
      "display_name": "Python 3"
    }
  },
  "cells": [
    {
      "cell_type": "markdown",
      "metadata": {
        "id": "view-in-github",
        "colab_type": "text"
      },
      "source": [
        "<a href=\"https://colab.research.google.com/github/jxes993323/Computational-Thinking/blob/master/week10_A108260045_%E5%BC%B5%E9%9D%96%E7%8E%9F.ipynb\" target=\"_parent\"><img src=\"https://colab.research.google.com/assets/colab-badge.svg\" alt=\"Open In Colab\"/></a>"
      ]
    },
    {
      "cell_type": "code",
      "metadata": {
        "id": "xZ5lUphWZ4ze",
        "colab_type": "code",
        "colab": {
          "base_uri": "https://localhost:8080/",
          "height": 102
        },
        "outputId": "0acfda28-f8cb-49f7-dd57-4969f60ff53f"
      },
      "source": [
        "# 解題1: 輸入遊戲情境相關資訊\n",
        "print(\"You are on a deserted island in a 2D world.\")\n",
        "print(\"Try to survive until rescue arrives!\")\n",
        "print(\"Available commands are in CAPITAL letters.\")\n",
        "print(\"Any other command exits the program\")\n",
        "print(\"First LOOK around...\") #若要玩遊戲，就四⾯看看，打LOOK"
      ],
      "execution_count": 1,
      "outputs": [
        {
          "output_type": "stream",
          "text": [
            "You are on a deserted island in a 2D world.\n",
            "Try to survive until rescue arrives!\n",
            "Available commands are in CAPITAL letters.\n",
            "Any other command exits the program\n",
            "First LOOK around...\n"
          ],
          "name": "stdout"
        }
      ]
    },
    {
      "cell_type": "code",
      "metadata": {
        "id": "-2h2zLtRc85_",
        "colab_type": "code",
        "colab": {
          "base_uri": "https://localhost:8080/",
          "height": 306
        },
        "outputId": "90f6cb92-d491-41bd-c695-40cc26c3f609"
      },
      "source": [
        "do = input(\":: \")\n",
        "#若輸入LOOK後提⽰後續指令\n",
        "if do == \"LOOK\": #描述情境並決定往哪爬\n",
        " print(\"You are stuck in a sand ditch.\") #被困沙溝\n",
        " print(\"Crawl out LEFT or RIGHT.\") #選擇向左或向右，打LEFT/RIGHT\n",
        "\n",
        " #輸入分⽀指令I-LEFT/RIGHT\n",
        " do = input(\":: \")\n",
        " if do == \"LEFT\": #輸入LEFT指令的分⽀，有機會看到船並獲救\n",
        "   print(\"You see a STARFISH and a CRAB on the sand.\") #海星與螃蟹 STARFISH/CRAB\n",
        "   print(\"And you're hungry! Which do you eat?\")\n",
        "   do = input(\":: \") #要吃那個\n",
        " if do == \"STARFISH\": #吃海星\n",
        "   print(\"Oh no! You immediately don't feel well.\")\n",
        "   print(\"You do not survive :(\") #會死掉\n",
        " elif do == \"CRAB\": #吃螃蟹\n",
        "   print(\"Raw crab should be fine, right? YES or NO.\") #吃⽣螃蟹好嗎 YES/NO\n",
        "\n",
        " #輸入指令指派給變數do\n",
        " do = input(\":: \") #要吃⽣螃蟹YES\n",
        " if do == \"YES\":\n",
        "   print(\"Ok, You eat it raw. Fingers crossed.\")#好運氣\n",
        "   print(\"Food in your belly helps you see a TREE.\") #看到樹TREE\n",
        "\n",
        " #輸入指令指派給變數do\n",
        " do = input(\":: \") #看到⼀棵樹\n",
        " if do == \"TREE\":\n",
        "   print(\"It's a coconut tree! And you're thirsty!\") #椰⼦樹\n",
        "   print(\"Do you drink the coconut water? YES or NO.\")#喝YES/NO\n",
        "\n",
        " #輸入指令指派給變數do\n",
        " do = input(\":: \")# 喝椰⼦⽔嗎？\n",
        " if do == \"YES\":\n",
        "   print(\"Oh boy. Coconut water and raw crab don't mix.\")\n",
        "   print(\"You do not survive :(\") #死掉\n",
        " elif do == \"NO\":\n",
        "   print(\"Good choice.\")\n",
        "   print(\"Look! It's a rescue plane! You made it! \\o/\") #最後看到船了\n",
        "\n",
        " elif do == \"NO\":\n",
        "   print(\"Well, there's nothing else left to eat.\")\n",
        "   print(\"You do not survive :(\") #會死掉\n",
        "\n",
        " elif do == \"RIGHT\": #輸入RIGHT指令的分⽀，最後會死掉\n",
        "   print(\"No can do. That side is very slippery.\") #處處濕滑\n",
        "   print(\"You fall very far into some weird cavern.\") #跌入洞穴\n",
        "   print(\"You do not survive :(\") #死掉\n",
        "\n",
        "else: #輸入提⽰外的指令，提醒重新輸入\n",
        "   print(\"You can only do actions shown in capital letters.\") #指令只能⽤⼤寫\n",
        "   print(\"Try again!\") #再試⼀次"
      ],
      "execution_count": 10,
      "outputs": [
        {
          "output_type": "stream",
          "text": [
            ":: LOOK\n",
            "You are stuck in a sand ditch.\n",
            "Crawl out LEFT or RIGHT.\n",
            ":: LEFT\n",
            "You see a STARFISH and a CRAB on the sand.\n",
            "And you're hungry! Which do you eat?\n",
            ":: CRAB\n",
            "Raw crab should be fine, right? YES or NO.\n",
            ":: YES\n",
            "Ok, You eat it raw. Fingers crossed.\n",
            "Food in your belly helps you see a TREE.\n",
            ":: TREE\n",
            "It's a coconut tree! And you're thirsty!\n",
            "Do you drink the coconut water? YES or NO.\n",
            ":: YES\n",
            "Oh boy. Coconut water and raw crab don't mix.\n",
            "You do not survive :(\n"
          ],
          "name": "stdout"
        }
      ]
    },
    {
      "cell_type": "code",
      "metadata": {
        "id": "u39CvYUedcyj",
        "colab_type": "code",
        "colab": {
          "base_uri": "https://localhost:8080/",
          "height": 68
        },
        "outputId": "4bd7ac55-01e3-468f-8224-a6f1c9dcd82d"
      },
      "source": [
        "import random\n",
        "my = int(input(\"請出拳 [0] 剪⼑ [1] ⽯頭 [2] 布\"))\n",
        "print(\"我出拳為\", my)\n",
        "computer = random.randint(0, 2)\n",
        "print(\"電腦出拳為\", computer)"
      ],
      "execution_count": 11,
      "outputs": [
        {
          "output_type": "stream",
          "text": [
            "請出拳 [0] 剪⼑ [1] ⽯頭 [2] 布0\n",
            "我出拳為 0\n",
            "電腦出拳為 1\n"
          ],
          "name": "stdout"
        }
      ]
    },
    {
      "cell_type": "code",
      "metadata": {
        "id": "IiNBN6Std0Gt",
        "colab_type": "code",
        "colab": {
          "base_uri": "https://localhost:8080/",
          "height": 34
        },
        "outputId": "ed89ab3d-5045-450b-98e6-71cb8be1f773"
      },
      "source": [
        "if my == 0:\n",
        " if computer == 0:\n",
        "  print('平⼿')\n",
        " elif computer == 1:\n",
        "  print('電腦獲勝')\n",
        " else:\n",
        "  print('玩家獲勝')\n",
        "elif my == 1:\n",
        " if computer == 0:\n",
        "  print('玩家獲勝')\n",
        " elif computer == 1:\n",
        "  print('平⼿')\n",
        " else:\n",
        "  print('電腦獲勝')\n",
        "else:\n",
        " if computer == 1:\n",
        "  print('電腦獲勝')\n",
        " elif computer == 2:\n",
        "  print('玩家獲勝')\n",
        " else:\n",
        "  print('平⼿')"
      ],
      "execution_count": 13,
      "outputs": [
        {
          "output_type": "stream",
          "text": [
            "電腦獲勝\n"
          ],
          "name": "stdout"
        }
      ]
    },
    {
      "cell_type": "code",
      "metadata": {
        "id": "vC0DNbnzeT7P",
        "colab_type": "code",
        "colab": {
          "base_uri": "https://localhost:8080/",
          "height": 68
        },
        "outputId": "674ff62f-f849-493c-97bc-b2f0b93d7aac"
      },
      "source": [
        "import random\n",
        "my_choice = int(input(\"請出拳 [0] 剪⼑ [1] ⽯頭 [2] 布\"))\n",
        "print(\"我出拳為\", my_choice)\n",
        "com_choice = random.randint(0, 2)\n",
        "print(\"電腦出拳為\", com_choice)"
      ],
      "execution_count": 14,
      "outputs": [
        {
          "output_type": "stream",
          "text": [
            "請出拳 [0] 剪⼑ [1] ⽯頭 [2] 布1\n",
            "我出拳為 1\n",
            "電腦出拳為 2\n"
          ],
          "name": "stdout"
        }
      ]
    },
    {
      "cell_type": "code",
      "metadata": {
        "id": "lNHhKFyEejAg",
        "colab_type": "code",
        "colab": {
          "base_uri": "https://localhost:8080/",
          "height": 34
        },
        "outputId": "85a3f602-5d9f-4ca5-fc40-2b34b2dd9a58"
      },
      "source": [
        "if my_choice == (com_choice + 1) % 3:\n",
        " print(\"我贏了\")\n",
        "elif my_choice == com_choice:\n",
        " print(\"平⼿\")\n",
        "else:\n",
        " print(\"我輸了\")"
      ],
      "execution_count": 15,
      "outputs": [
        {
          "output_type": "stream",
          "text": [
            "我輸了\n"
          ],
          "name": "stdout"
        }
      ]
    },
    {
      "cell_type": "code",
      "metadata": {
        "id": "4JKN_JOqeofd",
        "colab_type": "code",
        "colab": {
          "base_uri": "https://localhost:8080/",
          "height": 68
        },
        "outputId": "55e569ec-7e9a-4da3-81e0-9f7d8d33e9aa"
      },
      "source": [
        "import random\n",
        "my_choice = int(input(\"請出拳 [0] 蟲 [1] 雞 [2] 老虎 [3] 棒⼦\"))\n",
        "print(\"你出的拳:\", my_choice)\n",
        "com_choice = random.randint(0, 3)\n",
        "print(\"電腦出拳為\", com_choice)"
      ],
      "execution_count": 16,
      "outputs": [
        {
          "output_type": "stream",
          "text": [
            "請出拳 [0] 蟲 [1] 雞 [2] 老虎 [3] 棒⼦3\n",
            "你出的拳: 3\n",
            "電腦出拳為 0\n"
          ],
          "name": "stdout"
        }
      ]
    },
    {
      "cell_type": "code",
      "metadata": {
        "id": "sG8Z4g60etZ7",
        "colab_type": "code",
        "colab": {
          "base_uri": "https://localhost:8080/",
          "height": 34
        },
        "outputId": "446c88aa-f851-4d26-b86a-85fa680d9ff8"
      },
      "source": [
        "if my_choice == (com_choice + 1) % 4:\n",
        " print(\"我贏了\")\n",
        "elif com_choice == (my_choice + 1) % 4:\n",
        " print(\"電腦贏了\")\n",
        "else:\n",
        " print(\"平⼿\")"
      ],
      "execution_count": 17,
      "outputs": [
        {
          "output_type": "stream",
          "text": [
            "電腦贏了\n"
          ],
          "name": "stdout"
        }
      ]
    },
    {
      "cell_type": "code",
      "metadata": {
        "id": "-OUsP8_hfel7",
        "colab_type": "code",
        "colab": {
          "base_uri": "https://localhost:8080/",
          "height": 51
        },
        "outputId": "a5928f8e-ca83-4e8b-f825-6c0478ffb498"
      },
      "source": [
        "eye=float(input('請輸入眼睛度數?'))\n",
        "if eye <0.9 :\n",
        "  print(\"近視\")\n",
        "else:\n",
        "  print(\"視力正常\")"
      ],
      "execution_count": 20,
      "outputs": [
        {
          "output_type": "stream",
          "text": [
            "請輸入眼睛度數?0.8\n",
            "近視\n"
          ],
          "name": "stdout"
        }
      ]
    },
    {
      "cell_type": "code",
      "metadata": {
        "id": "4_5LAmF5mReq",
        "colab_type": "code",
        "colab": {
          "base_uri": "https://localhost:8080/",
          "height": 51
        },
        "outputId": "634048ee-8913-4c71-847b-f3bcf3a43ad6"
      },
      "source": [
        "年份=int(input('請輸入年份'))\n",
        "if((年份 % 4)==0):\n",
        "  if((年份 % 400)==0):\n",
        "    print(年份,\"是閏年\")\n",
        "  elif((年份 % 100)==0):\n",
        "    print(年份,\"不是閏年\")\n",
        "  else:\n",
        "    print(年份,\"是閏年\")\n",
        "else:\n",
        "    print(年份,\"不是閏年\")\n"
      ],
      "execution_count": 39,
      "outputs": [
        {
          "output_type": "stream",
          "text": [
            "請輸入年份2012\n",
            "2012 是閏年\n"
          ],
          "name": "stdout"
        }
      ]
    },
    {
      "cell_type": "code",
      "metadata": {
        "id": "nPHs2YhioUm4",
        "colab_type": "code",
        "colab": {}
      },
      "source": [
        ""
      ],
      "execution_count": 0,
      "outputs": []
    }
  ]
}